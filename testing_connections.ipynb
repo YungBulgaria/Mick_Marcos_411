{
 "cells": [
  {
   "cell_type": "markdown",
   "metadata": {},
   "source": [
    "This notebook is purely for testing and learning. \n",
    "\n",
    "For example, learning how to connect to the databases and programming with Python Dash"
   ]
  },
  {
   "cell_type": "markdown",
   "metadata": {},
   "source": [
    "# MySQL"
   ]
  },
  {
   "cell_type": "code",
   "execution_count": 36,
   "metadata": {},
   "outputs": [],
   "source": [
    "import mysql.connector"
   ]
  },
  {
   "cell_type": "code",
   "execution_count": 37,
   "metadata": {},
   "outputs": [
    {
     "name": "stdout",
     "output_type": "stream",
     "text": [
      "<mysql.connector.connection_cext.CMySQLConnection object at 0x0000025848879F90>\n"
     ]
    }
   ],
   "source": [
    "mydb = mysql.connector.connect(\n",
    "    host=\"localhost\",\n",
    "    user=\"root\",\n",
    "    password=\"test_root\",\n",
    "    database=\"academicworld\"\n",
    ")\n",
    "print(mydb)"
   ]
  },
  {
   "cell_type": "code",
   "execution_count": 38,
   "metadata": {},
   "outputs": [],
   "source": [
    "cursor = mydb.cursor()"
   ]
  },
  {
   "cell_type": "code",
   "execution_count": 39,
   "metadata": {},
   "outputs": [],
   "source": [
    "cursor.execute(\"select * from faculty limit 5\")"
   ]
  },
  {
   "cell_type": "code",
   "execution_count": 40,
   "metadata": {},
   "outputs": [
    {
     "name": "stdout",
     "output_type": "stream",
     "text": [
      "CMySQLCursor: select * from faculty limit 5\n"
     ]
    }
   ],
   "source": [
    "print(cursor)"
   ]
  },
  {
   "cell_type": "code",
   "execution_count": 41,
   "metadata": {},
   "outputs": [
    {
     "name": "stdout",
     "output_type": "stream",
     "text": [
      "(0, 'Agouris,Peggy', 'Provost', '', '', '', 'https://www.wm.edu/news/images/2019/content/agouris-content.jpg', 0)\n",
      "(1, 'Chaparro,Oscar', 'Assistant Professor', '', '', '', 'https://www.wm.edu/as/computerscience//images/csfaculty/chaparro_oscar.jpg', 0)\n",
      "(2, 'Davis,Tim', 'Lecturer', '', 'tadavis@cs.wm.edu', ': 757-221-3436', 'https://www.wm.edu/as/computerscience/images/csfaculty/davis_tim.jpg', 0)\n",
      "(3, 'Deverick,James', 'Senior Lecturer', '', 'jwdeve@cs.wm.edu', ': 757-221-3454', 'https://www.wm.edu/as/computerscience/images/csfaculty/deverick_j.jpg', 0)\n",
      "(4, 'Evtyushkin,Dmitry', 'Assistant Professor', '', 'dmitry@cs.wm.edu', ': 757-221-3465', 'https://lh3.googleusercontent.com/proxy/u9SXngcCSZvIEqWP37DtJVxQ2tIuiPtReJ62LrweyHVzrEhUcW97UhbSQooKQDihHw-Q-WLQajLzmiu-Il__0U1PmeXwPIOWEXrFgtgjutJ8MUnz', 0)\n"
     ]
    }
   ],
   "source": [
    "for i in cursor:\n",
    "    print(i)"
   ]
  },
  {
   "cell_type": "code",
   "execution_count": 42,
   "metadata": {},
   "outputs": [],
   "source": [
    "cursor.close()\n",
    "mydb.close()"
   ]
  },
  {
   "cell_type": "markdown",
   "metadata": {},
   "source": [
    "# MongoDB"
   ]
  },
  {
   "cell_type": "code",
   "execution_count": 43,
   "metadata": {},
   "outputs": [],
   "source": [
    "import pymongo"
   ]
  },
  {
   "cell_type": "code",
   "execution_count": 59,
   "metadata": {},
   "outputs": [],
   "source": [
    "connect_string = \"mongodb://localhost:27017/\"\n",
    "client = pymongo.MongoClient(connect_string)"
   ]
  },
  {
   "cell_type": "code",
   "execution_count": 61,
   "metadata": {},
   "outputs": [],
   "source": [
    "test = client['academicworld']"
   ]
  },
  {
   "cell_type": "code",
   "execution_count": 64,
   "metadata": {},
   "outputs": [],
   "source": [
    "test1 = test[\"faculty\"]"
   ]
  },
  {
   "cell_type": "code",
   "execution_count": 74,
   "metadata": {},
   "outputs": [],
   "source": [
    "result = test1.find()"
   ]
  },
  {
   "cell_type": "code",
   "execution_count": 75,
   "metadata": {},
   "outputs": [
    {
     "data": {
      "text/plain": [
       "{'_id': ObjectId('6670ba5742187619e176a2d9'),\n",
       " 'id': 0,\n",
       " 'name': 'Agouris,Peggy',\n",
       " 'position': 'Provost',\n",
       " 'researchInterest': None,\n",
       " 'email': None,\n",
       " 'phone': '',\n",
       " 'affiliation': {'id': 0,\n",
       "  'name': 'College of William Mary',\n",
       "  'photoUrl': 'https://www.wm.edu/img/wm_vertical_single_line_full_color.png'},\n",
       " 'photoUrl': 'https://www.wm.edu/news/images/2019/content/agouris-content.jpg',\n",
       " 'keywords': [{'id': 174, 'name': 'ontologies', 'score': 44.8985},\n",
       "  {'id': 337, 'name': 'gis', 'score': 32.522},\n",
       "  {'id': 559, 'name': 'image analysis', 'score': 27.3669},\n",
       "  {'id': 1150, 'name': 'change detection', 'score': 32.751},\n",
       "  {'id': 1635, 'name': 'video summarization', 'score': 24.2853},\n",
       "  {'id': 1858, 'name': 'data collection', 'score': 29.0366},\n",
       "  {'id': 3676, 'name': 'geographic information systems', 'score': 101.876},\n",
       "  {'id': 3799, 'name': 'spatial information', 'score': 58.5785},\n",
       "  {'id': 4352, 'name': 'semantic integration', 'score': 49.4999},\n",
       "  {'id': 7200, 'name': 'similarity metrics', 'score': 20.4316},\n",
       "  {'id': 8028, 'name': 'road networks', 'score': 25.2255},\n",
       "  {'id': 9814, 'name': 'object extraction', 'score': 22.6997},\n",
       "  {'id': 16183, 'name': 'aerial images', 'score': 46.1369},\n",
       "  {'id': 25954, 'name': 'urbanization', 'score': 23.6043},\n",
       "  {'id': 41987, 'name': 'road', 'score': 32.8014},\n",
       "  {'id': 48704, 'name': 'integrator', 'score': 29.9577},\n",
       "  {'id': 49601, 'name': 'research challenges', 'score': 86.1408}],\n",
       " 'publications': [9379453,\n",
       "  38697786,\n",
       "  45886936,\n",
       "  72949384,\n",
       "  128007856,\n",
       "  138430749,\n",
       "  144621260,\n",
       "  147663884,\n",
       "  159560563,\n",
       "  414863039,\n",
       "  1136511103,\n",
       "  1167790325,\n",
       "  1486935304,\n",
       "  1490968253,\n",
       "  1497629672,\n",
       "  1503224383,\n",
       "  1508228089,\n",
       "  1514105976,\n",
       "  1518629952,\n",
       "  1535457297,\n",
       "  1537170576,\n",
       "  1543457884,\n",
       "  1547458974,\n",
       "  1560992139,\n",
       "  1564832586,\n",
       "  1565999989,\n",
       "  1570671995,\n",
       "  1570913032,\n",
       "  1576138320,\n",
       "  1585016245,\n",
       "  1605726620,\n",
       "  1686957412,\n",
       "  1847404207,\n",
       "  1870237218,\n",
       "  1885141799,\n",
       "  1930962002,\n",
       "  1971033226,\n",
       "  1985418553,\n",
       "  1987821235,\n",
       "  2003383289,\n",
       "  2010761065,\n",
       "  2018354678,\n",
       "  2018463030,\n",
       "  2021499790,\n",
       "  2030928154,\n",
       "  2032545714,\n",
       "  2032900028,\n",
       "  2036194092,\n",
       "  2047275537,\n",
       "  2048723266,\n",
       "  2056601022,\n",
       "  2057347749,\n",
       "  2064123234,\n",
       "  2076938548,\n",
       "  2078843467,\n",
       "  2087402994,\n",
       "  2092775680,\n",
       "  2097379551,\n",
       "  2099980910,\n",
       "  2104152838,\n",
       "  2108070501,\n",
       "  2113159123,\n",
       "  2114043354,\n",
       "  2118506665,\n",
       "  2121607994,\n",
       "  2122013955,\n",
       "  2133409295,\n",
       "  2139838529,\n",
       "  2142300461,\n",
       "  2147459949,\n",
       "  2151137293,\n",
       "  2151446246,\n",
       "  2155389771,\n",
       "  2155755829,\n",
       "  2167075585,\n",
       "  2181695980,\n",
       "  2183570523,\n",
       "  2188154484,\n",
       "  2281333985,\n",
       "  2338675169,\n",
       "  2486495971,\n",
       "  2505178012,\n",
       "  2521601500,\n",
       "  2525460595,\n",
       "  2575020676,\n",
       "  2590700159,\n",
       "  2792491666,\n",
       "  2900024009,\n",
       "  2902847683,\n",
       "  2913905359,\n",
       "  2984957981]}"
      ]
     },
     "execution_count": 75,
     "metadata": {},
     "output_type": "execute_result"
    }
   ],
   "source": [
    "result[0]"
   ]
  },
  {
   "cell_type": "markdown",
   "metadata": {},
   "source": [
    "# Neo4j"
   ]
  },
  {
   "cell_type": "code",
   "execution_count": 77,
   "metadata": {},
   "outputs": [],
   "source": [
    "import neo4j"
   ]
  },
  {
   "cell_type": "code",
   "execution_count": 87,
   "metadata": {},
   "outputs": [],
   "source": [
    "# marcos's neo4j login credentials\n",
    "URI1 = \"bolt://localhost:7687\"\n",
    "AUTH1 = (\"neo4j\", \"test_root\")\n",
    "# mick's neo4j login credentials\n",
    "URI2 = \"bolt://localhost:7687\"\n",
    "AUTH2 = (\"neo4j\", \"test_root\")\n",
    "with neo4j.GraphDatabase.driver(URI1,auth=AUTH1) as driver:\n",
    "    driver.verify_connectivity()\n",
    "\n",
    "# with neo4j.GraphDatabase.driver(URI2,auth=AUTH2) as driver:\n",
    "# driver.verify_connectivity()   "
   ]
  },
  {
   "cell_type": "code",
   "execution_count": 99,
   "metadata": {},
   "outputs": [
    {
     "name": "stderr",
     "output_type": "stream",
     "text": [
      "C:\\Users\\socra\\AppData\\Local\\Temp\\ipykernel_5616\\2541044451.py:1: DeprecationWarning: Using a driver after it has been closed is deprecated. Future versions of the driver will raise an error.\n",
      "  records, summary, keys = driver.execute_query(\n"
     ]
    }
   ],
   "source": [
    "records, summary, keys = driver.execute_query(\n",
    "    \"MATCH (f:FACULTY) RETURN f.name limit 5\",\n",
    "    database_=\"academicworld\",\n",
    ")"
   ]
  },
  {
   "cell_type": "code",
   "execution_count": 100,
   "metadata": {},
   "outputs": [
    {
     "name": "stdout",
     "output_type": "stream",
     "text": [
      "<Record f.name='Agouris,Peggy'>\n",
      "<Record f.name='Chaparro,Oscar'>\n",
      "<Record f.name='Davis,Tim'>\n",
      "<Record f.name='Deverick,James'>\n",
      "<Record f.name='Evtyushkin,Dmitry'>\n"
     ]
    }
   ],
   "source": [
    "for i in records:\n",
    "    print(i)\n"
   ]
  },
  {
   "cell_type": "code",
   "execution_count": null,
   "metadata": {},
   "outputs": [],
   "source": []
  }
 ],
 "metadata": {
  "kernelspec": {
   "display_name": "Python 3",
   "language": "python",
   "name": "python3"
  },
  "language_info": {
   "codemirror_mode": {
    "name": "ipython",
    "version": 3
   },
   "file_extension": ".py",
   "mimetype": "text/x-python",
   "name": "python",
   "nbconvert_exporter": "python",
   "pygments_lexer": "ipython3",
   "version": "3.11.5"
  }
 },
 "nbformat": 4,
 "nbformat_minor": 2
}
